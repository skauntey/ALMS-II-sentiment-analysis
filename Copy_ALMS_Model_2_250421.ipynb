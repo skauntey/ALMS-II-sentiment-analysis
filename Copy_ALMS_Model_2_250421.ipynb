{
  "nbformat": 4,
  "nbformat_minor": 0,
  "metadata": {
    "accelerator": "GPU",
    "colab": {
      "name": "ALMS_Model1_250421",
      "private_outputs": true,
      "provenance": [],
      "collapsed_sections": [],
      "toc_visible": true,
      "include_colab_link": true
    },
    "kernelspec": {
      "display_name": "Python 3",
      "language": "python",
      "name": "python3"
    },
    "language_info": {
      "codemirror_mode": {
        "name": "ipython",
        "version": 3
      },
      "file_extension": ".py",
      "mimetype": "text/x-python",
      "name": "python",
      "nbconvert_exporter": "python",
      "pygments_lexer": "ipython3",
      "version": "3.8.8"
    }
  },
  "cells": [
    {
      "cell_type": "markdown",
      "metadata": {
        "id": "view-in-github",
        "colab_type": "text"
      },
      "source": [
        "<a href=\"https://colab.research.google.com/github/skauntey/ALMS-II-sentiment-analysis/blob/main/Copy_ALMS_Model_2_250421.ipynb\" target=\"_parent\"><img src=\"https://colab.research.google.com/assets/colab-badge.svg\" alt=\"Open In Colab\"/></a>"
      ]
    },
    {
      "cell_type": "code",
      "metadata": {
        "id": "Ix-DSBh2oDB0"
      },
      "source": [
        "import tensorflow as tf\n",
        "import pandas as pd\n",
        "import numpy as np\n",
        "import os, shutil\n",
        "import kaggle\n",
        "import sklearn\n",
        "import matplotlib.pyplot as plt\n",
        "%matplotlib inline"
      ],
      "execution_count": null,
      "outputs": []
    },
    {
      "cell_type": "markdown",
      "metadata": {
        "pycharm": {
          "name": "#%% md\n"
        },
        "id": "6eqm8yZfFkmL"
      },
      "source": [
        "## 2. Downloading kaggle competition files\n"
      ]
    },
    {
      "cell_type": "code",
      "metadata": {
        "pycharm": {
          "name": "#%%\n"
        },
        "id": "VCvpCZSLFkmM"
      },
      "source": [
        "dataset = \"sentiment-analysis-on-movie-reviews\"\n",
        "def kaggle_dataset_download(dataset):\n",
        "    kaggle.api.authenticate()\n",
        "    kaggle.api.competition_download_files(dataset, path= str(os.getcwd())+\"/dataset/\", force = True)\n",
        "    print ('Data downloaded!')\n",
        "\n",
        "kaggle_dataset_download(dataset)"
      ],
      "execution_count": null,
      "outputs": []
    },
    {
      "cell_type": "code",
      "metadata": {
        "pycharm": {
          "name": "#%%\n"
        },
        "id": "3zqVG0QAFkmN"
      },
      "source": [
        "## In order to download the dataset make sure that kaggle.json file is available in ~/.kaggle/kaggle.json\n",
        "# 'Kaggle.json' Downloading instructions are available under 'API Credential' heading of the github page\n",
        "# https://github.com/Kaggle/kaggle-api\n",
        "\n",
        "import zipfile\n",
        "#Define file to download\n",
        "\n",
        "dataset = \"sentiment-analysis-on-movie-reviews\"\n",
        "\n",
        "def kaggle_dataset_download(dataset):\n",
        "    kaggle.api.authenticate()\n",
        "    kaggle.api.competition_download_files(dataset, path= str(os.getcwd())+\"/dataset/\", force = True)\n",
        "    print ('Data downloaded!')\n",
        "\n",
        "def unzip_kaggle_file():\n",
        "\n",
        "    # file_path\n",
        "    zipped_file = os.listdir('dataset')[0]\n",
        "    file_path = os.path.join(str(os.getcwd()), 'dataset', zipped_file)\n",
        "    folder_path = os.path.join(str(os.getcwd()), 'dataset')\n",
        "\n",
        "    # making sure that previously downloaded file, if any, is deleted before\n",
        "    for file in os.listdir(folder_path):\n",
        "        path = os.path.join(os.getcwd(), 'dataset', file)\n",
        "        if path.split('.')[-1] != \"zip\":\n",
        "            try:\n",
        "                shutil.rmtree(path)\n",
        "            except:\n",
        "                raise\n",
        "\n",
        "    # Unzipping the file\n",
        "    with zipfile.ZipFile(file_path) as zip_file:\n",
        "        for member in zip_file.namelist():\n",
        "            if member.split('.')[-1] == \"zip\":\n",
        "                fdir = member.split('.')[0]\n",
        "                zip_file.extract(member, path= os.path.join('dataset/'+fdir))\n",
        "                # extracting individual train and test files in their respective folders\n",
        "                zippedfile_name = os.listdir(os.path.join(str(os.getcwd()+'/dataset/'+fdir+'/')))\n",
        "                zippedfile = os.path.join(str(os.getcwd())+'/dataset/'+ fdir, zippedfile_name[0])\n",
        "                with zipfile.ZipFile(zippedfile, mode='r') as tsv_zip:\n",
        "                    tsv_zip.extractall(path = os.path.join('dataset/'+fdir+'/'))\n",
        "\n",
        "                os.remove(zippedfile)\n",
        "            else:\n",
        "                continue\n",
        "\n",
        "    os.remove(os.path.join(str(os.getcwd()), 'dataset', zipped_file))\n",
        "    print('Kaggle file is downloaded and unzipped!')\n",
        "\n",
        "\n",
        "kaggle_dataset_download(dataset)\n",
        "unzip_kaggle_file()"
      ],
      "execution_count": null,
      "outputs": []
    },
    {
      "cell_type": "code",
      "metadata": {
        "pycharm": {
          "name": "#%%\n"
        },
        "id": "HARtNQdoFkmO"
      },
      "source": [
        "\"\"\"mport wget\n",
        "\n",
        "url = 'https://storage.googleapis.com/kaggle-competitions-data/kaggle-v2/10025/32092/bundle/archive.zip?GoogleAccessId=web-data@kaggle-161607.iam.gserviceaccount.com&Expires=1619688923&Signature=DOK4fkmvfo1EiqTTeKgw1e%2BOoezuCc6HxbI4zXT%2FKGIhsvmxFtwU22aUAq5NvA9WfkKKtXKP%2BGXl506giWgA9J3zgGpeAiRyPWK5Ik3o%2FGCZm%2B5Gw0oQUQN39sbdSD4a5jqmsKB2mDNPF3Q5DbVFsupRY1mUGCVooXC95TD1BczWgAYBCT%2BS4WfVcJanVB7MpPuohkZUDy6rI1uYe0CH%2Fggfe%2FsHXjjUtLIvV0TBJ0hq7g506jI30Gyz7YkOLgD5z1NtS0UrHxMPYq8z31r7sFaHvpvK%2FKuPpXROQ8%2F%2B%2FxZ%2BTxEFIQuQNRbymzsEQjV8XMLKpJt4NnhpnFAWjHge%2Bg%3D%3D&response-content-disposition=attachment%3B+filename%3Dsentiment-analysis-on-movie-reviews.zip'\n",
        "\n",
        "def dataset_download_and_unzip(url):\n",
        "    import os\n",
        "    import wget\n",
        "    import zipfile\n",
        "\n",
        "    # creating directory and downloading data\n",
        "    if not os.path.isdir('dataset'):\n",
        "        os.mkdir('dataset/')\n",
        "    else:\n",
        "        pass\n",
        "\n",
        "    # checking the format of the data and removing previously saved files to avoid duplication\n",
        "    wget.download(url, os.path.join(str(os.getcwd()), 'dataset/'))\n",
        "    ziped_file = r'dataset/sentiment-analysis-on-movie-reviews.zip'\n",
        "    folder_path = os.path.join(str(os.getcwd()), 'dataset/')\n",
        "    for files in os.listdir(folder_path):\n",
        "        path = os.path.join(os.getcwd()+'/'+'dataset/',files)\n",
        "        if path.split('.')[-1] != \"zip\":\n",
        "            try:\n",
        "                shutil.rmtree(path)\n",
        "            except:\n",
        "                raise\n",
        "\n",
        "    #Unzipping the files\n",
        "    with zipfile.ZipFile(ziped_file) as zip_file:\n",
        "        for member in zip_file.namelist():\n",
        "            if member.split('.')[-1] == \"zip\":\n",
        "                fdir = member.split('.')[0]\n",
        "                zip_file.extract(member, path= os.path.join('dataset/'+fdir))\n",
        "                # extracting individual train and test files in their respective folders\n",
        "                zippedfile_name = os.listdir(os.path.join(str(os.getcwd()+'/dataset/'+fdir+'/')))\n",
        "                zippedfile = os.path.join(str(os.getcwd())+'/dataset/'+ fdir, zippedfile_name[0])\n",
        "                with zipfile.ZipFile(zippedfile, mode='r') as tsv_zip:\n",
        "                    tsv_zip.extractall(path = os.path.join('dataset/'+fdir+'/'))\n",
        "\n",
        "                os.remove(zippedfile)\n",
        "            else:\n",
        "                continue\n",
        "\n",
        "    os.remove(ziped_file)\n",
        "    print ('Data successfully downloaded and extracted!')\n",
        "\n",
        "dataset_download_and_unzip(url)\n",
        "\n",
        "\"\"\""
      ],
      "execution_count": null,
      "outputs": []
    },
    {
      "cell_type": "markdown",
      "metadata": {
        "id": "XR-Gq7oRoDCg",
        "pycharm": {
          "name": "#%% md\n"
        }
      },
      "source": [
        "## 3. Converting files to DataFrame"
      ]
    },
    {
      "cell_type": "code",
      "metadata": {
        "id": "cYK76UoboDCh",
        "pycharm": {
          "name": "#%%\n"
        }
      },
      "source": [
        "#C:\\Users\\eq\\Documents\\UCL\\ELEC0135 ALMS II\\ALMS-II-sentiment-analysis\\dataset\\train\n",
        "file_path = os.path.join(str(os.getcwd()), 'dataset','train')\n",
        "file = os.listdir(file_path)[0]\n",
        "path = os.path.join(file_path, file)\n",
        "# read the data\n",
        "train_data = pd.read_csv(path, sep=\"\\t\")\n",
        "\n",
        "original_dataset = pd.DataFrame({ \n",
        "    'Text_Reviews': train_data['Phrase'],\n",
        "    'Labels': train_data['Sentiment']})\n",
        "\n",
        "pdf_data = original_dataset['Text_Reviews']\n",
        "pdf_labels = original_dataset['Labels']\n",
        "\n",
        "print(pdf_data.shape)\n",
        "print(pdf_labels.shape)\n",
        "original_dataset.head(10)"
      ],
      "execution_count": null,
      "outputs": []
    },
    {
      "cell_type": "markdown",
      "metadata": {
        "pycharm": {
          "name": "#%% md\n"
        },
        "id": "-xKKC9tKFkmQ"
      },
      "source": [
        "#### 3.1 Viewing data"
      ]
    },
    {
      "cell_type": "code",
      "metadata": {
        "id": "4h0iyk0RFkmR"
      },
      "source": [
        "Label_Class = [('negative', 0), ('somewhat negative', 1), ('neutral', 2), ('somewhat positive', 3), ('positive', 4)]\n",
        "Label_Class[0][0]\n",
        "\n",
        "original_dataset['Class'] = [Label_Class[i][0] for i in original_dataset['Labels']]\n",
        "original_dataset.head()"
      ],
      "execution_count": null,
      "outputs": []
    },
    {
      "cell_type": "code",
      "metadata": {
        "pycharm": {
          "name": "#%%\n"
        },
        "id": "pNtcpVIZFkmR"
      },
      "source": [
        "original_dataset.info()"
      ],
      "execution_count": null,
      "outputs": []
    },
    {
      "cell_type": "code",
      "metadata": {
        "id": "cDQgL14B8YLJ"
      },
      "source": [
        "col = ['Text_Reviews','Labels','Class']\n",
        "original_dataset[col]"
      ],
      "execution_count": null,
      "outputs": []
    },
    {
      "cell_type": "code",
      "metadata": {
        "id": "XYEpd18vFkmS"
      },
      "source": [
        "from io import StringIO\n",
        "Labels_df = original_dataset[['Labels', 'Class']].drop_duplicates().sort_values('Labels')\n",
        "Labels_id = dict(Labels_df.values)\n",
        "id_Class = dict(Labels_df[['Labels', 'Class']].values)\n",
        "Labels_id"
      ],
      "execution_count": null,
      "outputs": []
    },
    {
      "cell_type": "code",
      "metadata": {
        "id": "Kcpf0y8kFkmS"
      },
      "source": [
        "import matplotlib.pyplot as plt\n",
        "fig = plt.figure(figsize=(8,6))\n",
        "original_dataset.groupby('Class').Text_Reviews.count().plot.bar(ylim=0)\n",
        "plt.show()"
      ],
      "execution_count": null,
      "outputs": []
    },
    {
      "cell_type": "code",
      "metadata": {
        "id": "nsru2OoyFkmS"
      },
      "source": [
        "from sklearn.feature_extraction.text import TfidfVectorizer\n",
        "\n",
        "tfidf = TfidfVectorizer(sublinear_tf=True, min_df=5, norm='l2', encoding='latin-1', ngram_range=(1, 2), stop_words='english')\n",
        "\n",
        "features = tfidf.fit_transform(original_dataset.Text_Reviews).toarray()\n",
        "labels = original_dataset.Labels\n",
        "features.shape"
      ],
      "execution_count": null,
      "outputs": []
    },
    {
      "cell_type": "code",
      "metadata": {
        "id": "Grm9PQD_FkmT"
      },
      "source": [
        ""
      ],
      "execution_count": null,
      "outputs": []
    }
  ]
}