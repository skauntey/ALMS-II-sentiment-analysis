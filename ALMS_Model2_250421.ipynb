{
 "cells": [
  {
   "cell_type": "markdown",
   "metadata": {
    "colab_type": "text",
    "id": "view-in-github"
   },
   "source": [
    "<a href=\"https://colab.research.google.com/github/skauntey/ALMS-II-sentiment-analysis/blob/main/ALMS_Model1_250421.ipynb\" target=\"_parent\"><img src=\"https://colab.research.google.com/assets/colab-badge.svg\" alt=\"Open In Colab\"/></a>"
   ]
  },
  {
   "cell_type": "code",
   "execution_count": 16,
   "metadata": {
    "id": "Ix-DSBh2oDB0"
   },
   "outputs": [],
   "source": [
    "import tensorflow as tf\n",
    "import pandas as pd\n",
    "import numpy as np\n",
    "import os, shutil\n",
    "import kaggle\n",
    "import sklearn\n",
    "import matplotlib.pyplot as plt\n",
    "%matplotlib inline"
   ]
  },
  {
   "cell_type": "markdown",
   "metadata": {
    "pycharm": {
     "name": "#%% md\n"
    }
   },
   "source": [
    "## 2. Downloading kaggle competition files\n"
   ]
  },
  {
   "cell_type": "code",
   "execution_count": 17,
   "metadata": {
    "pycharm": {
     "name": "#%%\n"
    }
   },
   "outputs": [
    {
     "name": "stdout",
     "output_type": "stream",
     "text": [
      "Data downloaded!\n"
     ]
    }
   ],
   "source": [
    "dataset = \"sentiment-analysis-on-movie-reviews\"\n",
    "def kaggle_dataset_download(dataset):\n",
    "    kaggle.api.authenticate()\n",
    "    kaggle.api.competition_download_files(dataset, path= str(os.getcwd())+\"/dataset/\", force = True)\n",
    "    print ('Data downloaded!')\n",
    "\n",
    "kaggle_dataset_download(dataset)"
   ]
  },
  {
   "cell_type": "code",
   "execution_count": 18,
   "metadata": {
    "pycharm": {
     "name": "#%%\n"
    }
   },
   "outputs": [
    {
     "name": "stdout",
     "output_type": "stream",
     "text": [
      "Data downloaded!\n",
      "Kaggle file is downloaded and unzipped!\n"
     ]
    }
   ],
   "source": [
    "## In order to download the dataset make sure that kaggle.json file is available in ~/.kaggle/kaggle.json\n",
    "# 'Kaggle.json' Downloading instructions are available under 'API Credential' heading of the github page\n",
    "# https://github.com/Kaggle/kaggle-api\n",
    "\n",
    "import zipfile\n",
    "#Define file to download\n",
    "\n",
    "dataset = \"sentiment-analysis-on-movie-reviews\"\n",
    "\n",
    "def kaggle_dataset_download(dataset):\n",
    "    kaggle.api.authenticate()\n",
    "    kaggle.api.competition_download_files(dataset, path= str(os.getcwd())+\"/dataset/\", force = True)\n",
    "    print ('Data downloaded!')\n",
    "\n",
    "def unzip_kaggle_file():\n",
    "\n",
    "    # file_path\n",
    "    zipped_file = os.listdir('dataset')[0]\n",
    "    file_path = os.path.join(str(os.getcwd()), 'dataset', zipped_file)\n",
    "    folder_path = os.path.join(str(os.getcwd()), 'dataset')\n",
    "\n",
    "    # making sure that previously downloaded file, if any, is deleted before\n",
    "    for file in os.listdir(folder_path):\n",
    "        path = os.path.join(os.getcwd(), 'dataset', file)\n",
    "        if path.split('.')[-1] != \"zip\":\n",
    "            try:\n",
    "                shutil.rmtree(path)\n",
    "            except:\n",
    "                raise\n",
    "\n",
    "    # Unzipping the file\n",
    "    with zipfile.ZipFile(file_path) as zip_file:\n",
    "        for member in zip_file.namelist():\n",
    "            if member.split('.')[-1] == \"zip\":\n",
    "                fdir = member.split('.')[0]\n",
    "                zip_file.extract(member, path= os.path.join('dataset/'+fdir))\n",
    "                # extracting individual train and test files in their respective folders\n",
    "                zippedfile_name = os.listdir(os.path.join(str(os.getcwd()+'/dataset/'+fdir+'/')))\n",
    "                zippedfile = os.path.join(str(os.getcwd())+'/dataset/'+ fdir, zippedfile_name[0])\n",
    "                with zipfile.ZipFile(zippedfile, mode='r') as tsv_zip:\n",
    "                    tsv_zip.extractall(path = os.path.join('dataset/'+fdir+'/'))\n",
    "\n",
    "                os.remove(zippedfile)\n",
    "            else:\n",
    "                continue\n",
    "\n",
    "    os.remove(os.path.join(str(os.getcwd()), 'dataset', zipped_file))\n",
    "    print('Kaggle file is downloaded and unzipped!')\n",
    "\n",
    "\n",
    "kaggle_dataset_download(dataset)\n",
    "unzip_kaggle_file()"
   ]
  },
  {
   "cell_type": "code",
   "execution_count": 19,
   "metadata": {
    "pycharm": {
     "name": "#%%\n"
    }
   },
   "outputs": [
    {
     "data": {
      "text/plain": [
       "'mport wget\\n\\nurl = \\'https://storage.googleapis.com/kaggle-competitions-data/kaggle-v2/10025/32092/bundle/archive.zip?GoogleAccessId=web-data@kaggle-161607.iam.gserviceaccount.com&Expires=1619688923&Signature=DOK4fkmvfo1EiqTTeKgw1e%2BOoezuCc6HxbI4zXT%2FKGIhsvmxFtwU22aUAq5NvA9WfkKKtXKP%2BGXl506giWgA9J3zgGpeAiRyPWK5Ik3o%2FGCZm%2B5Gw0oQUQN39sbdSD4a5jqmsKB2mDNPF3Q5DbVFsupRY1mUGCVooXC95TD1BczWgAYBCT%2BS4WfVcJanVB7MpPuohkZUDy6rI1uYe0CH%2Fggfe%2FsHXjjUtLIvV0TBJ0hq7g506jI30Gyz7YkOLgD5z1NtS0UrHxMPYq8z31r7sFaHvpvK%2FKuPpXROQ8%2F%2B%2FxZ%2BTxEFIQuQNRbymzsEQjV8XMLKpJt4NnhpnFAWjHge%2Bg%3D%3D&response-content-disposition=attachment%3B+filename%3Dsentiment-analysis-on-movie-reviews.zip\\'\\n\\ndef dataset_download_and_unzip(url):\\n    import os\\n    import wget\\n    import zipfile\\n\\n    # creating directory and downloading data\\n    if not os.path.isdir(\\'dataset\\'):\\n        os.mkdir(\\'dataset/\\')\\n    else:\\n        pass\\n\\n    # checking the format of the data and removing previously saved files to avoid duplication\\n    wget.download(url, os.path.join(str(os.getcwd()), \\'dataset/\\'))\\n    ziped_file = r\\'dataset/sentiment-analysis-on-movie-reviews.zip\\'\\n    folder_path = os.path.join(str(os.getcwd()), \\'dataset/\\')\\n    for files in os.listdir(folder_path):\\n        path = os.path.join(os.getcwd()+\\'/\\'+\\'dataset/\\',files)\\n        if path.split(\\'.\\')[-1] != \"zip\":\\n            try:\\n                shutil.rmtree(path)\\n            except:\\n                raise\\n\\n    #Unzipping the files\\n    with zipfile.ZipFile(ziped_file) as zip_file:\\n        for member in zip_file.namelist():\\n            if member.split(\\'.\\')[-1] == \"zip\":\\n                fdir = member.split(\\'.\\')[0]\\n                zip_file.extract(member, path= os.path.join(\\'dataset/\\'+fdir))\\n                # extracting individual train and test files in their respective folders\\n                zippedfile_name = os.listdir(os.path.join(str(os.getcwd()+\\'/dataset/\\'+fdir+\\'/\\')))\\n                zippedfile = os.path.join(str(os.getcwd())+\\'/dataset/\\'+ fdir, zippedfile_name[0])\\n                with zipfile.ZipFile(zippedfile, mode=\\'r\\') as tsv_zip:\\n                    tsv_zip.extractall(path = os.path.join(\\'dataset/\\'+fdir+\\'/\\'))\\n\\n                os.remove(zippedfile)\\n            else:\\n                continue\\n\\n    os.remove(ziped_file)\\n    print (\\'Data successfully downloaded and extracted!\\')\\n\\ndataset_download_and_unzip(url)\\n\\n'"
      ]
     },
     "execution_count": 19,
     "metadata": {},
     "output_type": "execute_result"
    }
   ],
   "source": [
    "\"\"\"mport wget\n",
    "\n",
    "url = 'https://storage.googleapis.com/kaggle-competitions-data/kaggle-v2/10025/32092/bundle/archive.zip?GoogleAccessId=web-data@kaggle-161607.iam.gserviceaccount.com&Expires=1619688923&Signature=DOK4fkmvfo1EiqTTeKgw1e%2BOoezuCc6HxbI4zXT%2FKGIhsvmxFtwU22aUAq5NvA9WfkKKtXKP%2BGXl506giWgA9J3zgGpeAiRyPWK5Ik3o%2FGCZm%2B5Gw0oQUQN39sbdSD4a5jqmsKB2mDNPF3Q5DbVFsupRY1mUGCVooXC95TD1BczWgAYBCT%2BS4WfVcJanVB7MpPuohkZUDy6rI1uYe0CH%2Fggfe%2FsHXjjUtLIvV0TBJ0hq7g506jI30Gyz7YkOLgD5z1NtS0UrHxMPYq8z31r7sFaHvpvK%2FKuPpXROQ8%2F%2B%2FxZ%2BTxEFIQuQNRbymzsEQjV8XMLKpJt4NnhpnFAWjHge%2Bg%3D%3D&response-content-disposition=attachment%3B+filename%3Dsentiment-analysis-on-movie-reviews.zip'\n",
    "\n",
    "def dataset_download_and_unzip(url):\n",
    "    import os\n",
    "    import wget\n",
    "    import zipfile\n",
    "\n",
    "    # creating directory and downloading data\n",
    "    if not os.path.isdir('dataset'):\n",
    "        os.mkdir('dataset/')\n",
    "    else:\n",
    "        pass\n",
    "\n",
    "    # checking the format of the data and removing previously saved files to avoid duplication\n",
    "    wget.download(url, os.path.join(str(os.getcwd()), 'dataset/'))\n",
    "    ziped_file = r'dataset/sentiment-analysis-on-movie-reviews.zip'\n",
    "    folder_path = os.path.join(str(os.getcwd()), 'dataset/')\n",
    "    for files in os.listdir(folder_path):\n",
    "        path = os.path.join(os.getcwd()+'/'+'dataset/',files)\n",
    "        if path.split('.')[-1] != \"zip\":\n",
    "            try:\n",
    "                shutil.rmtree(path)\n",
    "            except:\n",
    "                raise\n",
    "\n",
    "    #Unzipping the files\n",
    "    with zipfile.ZipFile(ziped_file) as zip_file:\n",
    "        for member in zip_file.namelist():\n",
    "            if member.split('.')[-1] == \"zip\":\n",
    "                fdir = member.split('.')[0]\n",
    "                zip_file.extract(member, path= os.path.join('dataset/'+fdir))\n",
    "                # extracting individual train and test files in their respective folders\n",
    "                zippedfile_name = os.listdir(os.path.join(str(os.getcwd()+'/dataset/'+fdir+'/')))\n",
    "                zippedfile = os.path.join(str(os.getcwd())+'/dataset/'+ fdir, zippedfile_name[0])\n",
    "                with zipfile.ZipFile(zippedfile, mode='r') as tsv_zip:\n",
    "                    tsv_zip.extractall(path = os.path.join('dataset/'+fdir+'/'))\n",
    "\n",
    "                os.remove(zippedfile)\n",
    "            else:\n",
    "                continue\n",
    "\n",
    "    os.remove(ziped_file)\n",
    "    print ('Data successfully downloaded and extracted!')\n",
    "\n",
    "dataset_download_and_unzip(url)\n",
    "\n",
    "\"\"\""
   ]
  },
  {
   "cell_type": "markdown",
   "metadata": {
    "id": "XR-Gq7oRoDCg",
    "pycharm": {
     "name": "#%% md\n"
    }
   },
   "source": [
    "## 3. Converting files to DataFrame"
   ]
  },
  {
   "cell_type": "code",
   "execution_count": 20,
   "metadata": {
    "id": "cYK76UoboDCh",
    "pycharm": {
     "name": "#%%\n"
    }
   },
   "outputs": [
    {
     "name": "stdout",
     "output_type": "stream",
     "text": [
      "(156060,)\n",
      "(156060,)\n"
     ]
    },
    {
     "data": {
      "text/html": [
       "<div>\n",
       "<style scoped>\n",
       "    .dataframe tbody tr th:only-of-type {\n",
       "        vertical-align: middle;\n",
       "    }\n",
       "\n",
       "    .dataframe tbody tr th {\n",
       "        vertical-align: top;\n",
       "    }\n",
       "\n",
       "    .dataframe thead th {\n",
       "        text-align: right;\n",
       "    }\n",
       "</style>\n",
       "<table border=\"1\" class=\"dataframe\">\n",
       "  <thead>\n",
       "    <tr style=\"text-align: right;\">\n",
       "      <th></th>\n",
       "      <th>Text_Reviews</th>\n",
       "      <th>Labels</th>\n",
       "    </tr>\n",
       "  </thead>\n",
       "  <tbody>\n",
       "    <tr>\n",
       "      <th>0</th>\n",
       "      <td>A series of escapades demonstrating the adage ...</td>\n",
       "      <td>1</td>\n",
       "    </tr>\n",
       "    <tr>\n",
       "      <th>1</th>\n",
       "      <td>A series of escapades demonstrating the adage ...</td>\n",
       "      <td>2</td>\n",
       "    </tr>\n",
       "    <tr>\n",
       "      <th>2</th>\n",
       "      <td>A series</td>\n",
       "      <td>2</td>\n",
       "    </tr>\n",
       "    <tr>\n",
       "      <th>3</th>\n",
       "      <td>A</td>\n",
       "      <td>2</td>\n",
       "    </tr>\n",
       "    <tr>\n",
       "      <th>4</th>\n",
       "      <td>series</td>\n",
       "      <td>2</td>\n",
       "    </tr>\n",
       "    <tr>\n",
       "      <th>5</th>\n",
       "      <td>of escapades demonstrating the adage that what...</td>\n",
       "      <td>2</td>\n",
       "    </tr>\n",
       "    <tr>\n",
       "      <th>6</th>\n",
       "      <td>of</td>\n",
       "      <td>2</td>\n",
       "    </tr>\n",
       "    <tr>\n",
       "      <th>7</th>\n",
       "      <td>escapades demonstrating the adage that what is...</td>\n",
       "      <td>2</td>\n",
       "    </tr>\n",
       "    <tr>\n",
       "      <th>8</th>\n",
       "      <td>escapades</td>\n",
       "      <td>2</td>\n",
       "    </tr>\n",
       "    <tr>\n",
       "      <th>9</th>\n",
       "      <td>demonstrating the adage that what is good for ...</td>\n",
       "      <td>2</td>\n",
       "    </tr>\n",
       "  </tbody>\n",
       "</table>\n",
       "</div>"
      ],
      "text/plain": [
       "                                        Text_Reviews  Labels\n",
       "0  A series of escapades demonstrating the adage ...       1\n",
       "1  A series of escapades demonstrating the adage ...       2\n",
       "2                                           A series       2\n",
       "3                                                  A       2\n",
       "4                                             series       2\n",
       "5  of escapades demonstrating the adage that what...       2\n",
       "6                                                 of       2\n",
       "7  escapades demonstrating the adage that what is...       2\n",
       "8                                          escapades       2\n",
       "9  demonstrating the adage that what is good for ...       2"
      ]
     },
     "execution_count": 20,
     "metadata": {},
     "output_type": "execute_result"
    }
   ],
   "source": [
    "#C:\\Users\\eq\\Documents\\UCL\\ELEC0135 ALMS II\\ALMS-II-sentiment-analysis\\dataset\\train\n",
    "file_path = os.path.join(str(os.getcwd()), 'dataset','train')\n",
    "file = os.listdir(file_path)[0]\n",
    "path = os.path.join(file_path, file)\n",
    "# read the data\n",
    "train_data = pd.read_csv(path, sep=\"\\t\")\n",
    "\n",
    "original_dataset = pd.DataFrame({ \n",
    "    'Text_Reviews': train_data['Phrase'],\n",
    "    'Labels': train_data['Sentiment']})\n",
    "\n",
    "pdf_data = original_dataset['Text_Reviews']\n",
    "pdf_labels = original_dataset['Labels']\n",
    "\n",
    "print(pdf_data.shape)\n",
    "print(pdf_labels.shape)\n",
    "original_dataset.head(10)"
   ]
  },
  {
   "cell_type": "markdown",
   "metadata": {
    "pycharm": {
     "name": "#%% md\n"
    }
   },
   "source": [
    "#### 3.1 Viewing data"
   ]
  },
  {
   "cell_type": "code",
   "execution_count": 25,
   "metadata": {},
   "outputs": [
    {
     "data": {
      "text/html": [
       "<div>\n",
       "<style scoped>\n",
       "    .dataframe tbody tr th:only-of-type {\n",
       "        vertical-align: middle;\n",
       "    }\n",
       "\n",
       "    .dataframe tbody tr th {\n",
       "        vertical-align: top;\n",
       "    }\n",
       "\n",
       "    .dataframe thead th {\n",
       "        text-align: right;\n",
       "    }\n",
       "</style>\n",
       "<table border=\"1\" class=\"dataframe\">\n",
       "  <thead>\n",
       "    <tr style=\"text-align: right;\">\n",
       "      <th></th>\n",
       "      <th>Text_Reviews</th>\n",
       "      <th>Labels</th>\n",
       "      <th>Class</th>\n",
       "    </tr>\n",
       "  </thead>\n",
       "  <tbody>\n",
       "    <tr>\n",
       "      <th>0</th>\n",
       "      <td>A series of escapades demonstrating the adage ...</td>\n",
       "      <td>1</td>\n",
       "      <td>somewhat negative</td>\n",
       "    </tr>\n",
       "    <tr>\n",
       "      <th>1</th>\n",
       "      <td>A series of escapades demonstrating the adage ...</td>\n",
       "      <td>2</td>\n",
       "      <td>neutral</td>\n",
       "    </tr>\n",
       "    <tr>\n",
       "      <th>2</th>\n",
       "      <td>A series</td>\n",
       "      <td>2</td>\n",
       "      <td>neutral</td>\n",
       "    </tr>\n",
       "    <tr>\n",
       "      <th>3</th>\n",
       "      <td>A</td>\n",
       "      <td>2</td>\n",
       "      <td>neutral</td>\n",
       "    </tr>\n",
       "    <tr>\n",
       "      <th>4</th>\n",
       "      <td>series</td>\n",
       "      <td>2</td>\n",
       "      <td>neutral</td>\n",
       "    </tr>\n",
       "  </tbody>\n",
       "</table>\n",
       "</div>"
      ],
      "text/plain": [
       "                                        Text_Reviews  Labels  \\\n",
       "0  A series of escapades demonstrating the adage ...       1   \n",
       "1  A series of escapades demonstrating the adage ...       2   \n",
       "2                                           A series       2   \n",
       "3                                                  A       2   \n",
       "4                                             series       2   \n",
       "\n",
       "               Class  \n",
       "0  somewhat negative  \n",
       "1            neutral  \n",
       "2            neutral  \n",
       "3            neutral  \n",
       "4            neutral  "
      ]
     },
     "execution_count": 25,
     "metadata": {},
     "output_type": "execute_result"
    }
   ],
   "source": [
    "Label_Class = [('negative', 0), ('somewhat negative', 1), ('neutral', 2), ('somewhat positive', 3), ('positive', 4)]\n",
    "Label_Class[0][0]\n",
    "\n",
    "original_dataset['Class'] = [Label_Class[i][0] for i in original_dataset['Labels']]\n",
    "original_dataset.head()"
   ]
  },
  {
   "cell_type": "code",
   "execution_count": 77,
   "metadata": {
    "pycharm": {
     "name": "#%%\n"
    }
   },
   "outputs": [
    {
     "name": "stdout",
     "output_type": "stream",
     "text": [
      "<class 'pandas.core.frame.DataFrame'>\n",
      "RangeIndex: 156060 entries, 0 to 156059\n",
      "Data columns (total 4 columns):\n",
      " #   Column        Non-Null Count   Dtype \n",
      "---  ------        --------------   ----- \n",
      " 0   Text_Reviews  156060 non-null  object\n",
      " 1   Labels        156060 non-null  int64 \n",
      " 2   Class         156060 non-null  object\n",
      " 3   Label_id      156060 non-null  int64 \n",
      "dtypes: int64(2), object(2)\n",
      "memory usage: 4.8+ MB\n"
     ]
    }
   ],
   "source": [
    "original_dataset.info()"
   ]
  },
  {
   "cell_type": "code",
   "execution_count": 78,
   "metadata": {
    "id": "cDQgL14B8YLJ"
   },
   "outputs": [
    {
     "data": {
      "text/html": [
       "<div>\n",
       "<style scoped>\n",
       "    .dataframe tbody tr th:only-of-type {\n",
       "        vertical-align: middle;\n",
       "    }\n",
       "\n",
       "    .dataframe tbody tr th {\n",
       "        vertical-align: top;\n",
       "    }\n",
       "\n",
       "    .dataframe thead th {\n",
       "        text-align: right;\n",
       "    }\n",
       "</style>\n",
       "<table border=\"1\" class=\"dataframe\">\n",
       "  <thead>\n",
       "    <tr style=\"text-align: right;\">\n",
       "      <th></th>\n",
       "      <th>Text_Reviews</th>\n",
       "      <th>Labels</th>\n",
       "      <th>Class</th>\n",
       "    </tr>\n",
       "  </thead>\n",
       "  <tbody>\n",
       "    <tr>\n",
       "      <th>0</th>\n",
       "      <td>A series of escapades demonstrating the adage ...</td>\n",
       "      <td>1</td>\n",
       "      <td>somewhat negative</td>\n",
       "    </tr>\n",
       "    <tr>\n",
       "      <th>1</th>\n",
       "      <td>A series of escapades demonstrating the adage ...</td>\n",
       "      <td>2</td>\n",
       "      <td>neutral</td>\n",
       "    </tr>\n",
       "    <tr>\n",
       "      <th>2</th>\n",
       "      <td>A series</td>\n",
       "      <td>2</td>\n",
       "      <td>neutral</td>\n",
       "    </tr>\n",
       "    <tr>\n",
       "      <th>3</th>\n",
       "      <td>A</td>\n",
       "      <td>2</td>\n",
       "      <td>neutral</td>\n",
       "    </tr>\n",
       "    <tr>\n",
       "      <th>4</th>\n",
       "      <td>series</td>\n",
       "      <td>2</td>\n",
       "      <td>neutral</td>\n",
       "    </tr>\n",
       "    <tr>\n",
       "      <th>...</th>\n",
       "      <td>...</td>\n",
       "      <td>...</td>\n",
       "      <td>...</td>\n",
       "    </tr>\n",
       "    <tr>\n",
       "      <th>156055</th>\n",
       "      <td>Hearst 's</td>\n",
       "      <td>2</td>\n",
       "      <td>neutral</td>\n",
       "    </tr>\n",
       "    <tr>\n",
       "      <th>156056</th>\n",
       "      <td>forced avuncular chortles</td>\n",
       "      <td>1</td>\n",
       "      <td>somewhat negative</td>\n",
       "    </tr>\n",
       "    <tr>\n",
       "      <th>156057</th>\n",
       "      <td>avuncular chortles</td>\n",
       "      <td>3</td>\n",
       "      <td>somewhat positive</td>\n",
       "    </tr>\n",
       "    <tr>\n",
       "      <th>156058</th>\n",
       "      <td>avuncular</td>\n",
       "      <td>2</td>\n",
       "      <td>neutral</td>\n",
       "    </tr>\n",
       "    <tr>\n",
       "      <th>156059</th>\n",
       "      <td>chortles</td>\n",
       "      <td>2</td>\n",
       "      <td>neutral</td>\n",
       "    </tr>\n",
       "  </tbody>\n",
       "</table>\n",
       "<p>156060 rows × 3 columns</p>\n",
       "</div>"
      ],
      "text/plain": [
       "                                             Text_Reviews  Labels  \\\n",
       "0       A series of escapades demonstrating the adage ...       1   \n",
       "1       A series of escapades demonstrating the adage ...       2   \n",
       "2                                                A series       2   \n",
       "3                                                       A       2   \n",
       "4                                                  series       2   \n",
       "...                                                   ...     ...   \n",
       "156055                                          Hearst 's       2   \n",
       "156056                          forced avuncular chortles       1   \n",
       "156057                                 avuncular chortles       3   \n",
       "156058                                          avuncular       2   \n",
       "156059                                           chortles       2   \n",
       "\n",
       "                    Class  \n",
       "0       somewhat negative  \n",
       "1                 neutral  \n",
       "2                 neutral  \n",
       "3                 neutral  \n",
       "4                 neutral  \n",
       "...                   ...  \n",
       "156055            neutral  \n",
       "156056  somewhat negative  \n",
       "156057  somewhat positive  \n",
       "156058            neutral  \n",
       "156059            neutral  \n",
       "\n",
       "[156060 rows x 3 columns]"
      ]
     },
     "execution_count": 78,
     "metadata": {},
     "output_type": "execute_result"
    }
   ],
   "source": [
    "col = ['Text_Reviews','Labels','Class']\n",
    "original_dataset[col]"
   ]
  },
  {
   "cell_type": "code",
   "execution_count": 79,
   "metadata": {},
   "outputs": [
    {
     "data": {
      "text/plain": [
       "{0: 'negative',\n",
       " 1: 'somewhat negative',\n",
       " 2: 'neutral',\n",
       " 3: 'somewhat positive',\n",
       " 4: 'positive'}"
      ]
     },
     "execution_count": 79,
     "metadata": {},
     "output_type": "execute_result"
    }
   ],
   "source": [
    "from io import StringIO\n",
    "Labels_df = original_dataset[['Labels', 'Class']].drop_duplicates().sort_values('Labels')\n",
    "Labels_id = dict(Labels_df.values)\n",
    "id_Class = dict(Labels_df[['Labels', 'Class']].values)\n",
    "Labels_id"
   ]
  },
  {
   "cell_type": "code",
   "execution_count": 80,
   "metadata": {},
   "outputs": [
    {
     "data": {
      "image/png": "[encoded data removed]",
      "text/plain": [
       "<Figure size 576x432 with 1 Axes>"
      ]
     },
     "metadata": {
      "needs_background": "light"
     },
     "output_type": "display_data"
    }
   ],
   "source": [
    "import matplotlib.pyplot as plt\n",
    "fig = plt.figure(figsize=(8,6))\n",
    "original_dataset.groupby('Class').Text_Reviews.count().plot.bar(ylim=0)\n",
    "plt.show()"
   ]
  },
  {
   "cell_type": "code",
   "execution_count": 82,
   "metadata": {},
   "outputs": [
    {
     "ename": "MemoryError",
     "evalue": "Unable to allocate 63.8 GiB for an array with shape (156060, 54911) and data type float64",
     "output_type": "error",
     "traceback": [
      "\u001B[1;31m---------------------------------------------------------------------------\u001B[0m",
      "\u001B[1;31mMemoryError\u001B[0m                               Traceback (most recent call last)",
      "\u001B[1;32m<ipython-input-82-b1364d001387>\u001B[0m in \u001B[0;36m<module>\u001B[1;34m\u001B[0m\n\u001B[0;32m      3\u001B[0m \u001B[0mtfidf\u001B[0m \u001B[1;33m=\u001B[0m \u001B[0mTfidfVectorizer\u001B[0m\u001B[1;33m(\u001B[0m\u001B[0msublinear_tf\u001B[0m\u001B[1;33m=\u001B[0m\u001B[1;32mTrue\u001B[0m\u001B[1;33m,\u001B[0m \u001B[0mmin_df\u001B[0m\u001B[1;33m=\u001B[0m\u001B[1;36m5\u001B[0m\u001B[1;33m,\u001B[0m \u001B[0mnorm\u001B[0m\u001B[1;33m=\u001B[0m\u001B[1;34m'l2'\u001B[0m\u001B[1;33m,\u001B[0m \u001B[0mngram_range\u001B[0m\u001B[1;33m=\u001B[0m\u001B[1;33m(\u001B[0m\u001B[1;36m1\u001B[0m\u001B[1;33m,\u001B[0m \u001B[1;36m2\u001B[0m\u001B[1;33m)\u001B[0m\u001B[1;33m,\u001B[0m \u001B[0mstop_words\u001B[0m\u001B[1;33m=\u001B[0m\u001B[1;34m'english'\u001B[0m\u001B[1;33m)\u001B[0m\u001B[1;33m\u001B[0m\u001B[1;33m\u001B[0m\u001B[0m\n\u001B[0;32m      4\u001B[0m \u001B[1;33m\u001B[0m\u001B[0m\n\u001B[1;32m----> 5\u001B[1;33m \u001B[0mfeatures\u001B[0m \u001B[1;33m=\u001B[0m \u001B[0mtfidf\u001B[0m\u001B[1;33m.\u001B[0m\u001B[0mfit_transform\u001B[0m\u001B[1;33m(\u001B[0m\u001B[0moriginal_dataset\u001B[0m\u001B[1;33m.\u001B[0m\u001B[0mText_Reviews\u001B[0m\u001B[1;33m)\u001B[0m\u001B[1;33m.\u001B[0m\u001B[0mtoarray\u001B[0m\u001B[1;33m(\u001B[0m\u001B[1;33m)\u001B[0m\u001B[1;33m\u001B[0m\u001B[1;33m\u001B[0m\u001B[0m\n\u001B[0m\u001B[0;32m      6\u001B[0m \u001B[0mlabels\u001B[0m \u001B[1;33m=\u001B[0m \u001B[0moriginal_dataset\u001B[0m\u001B[1;33m.\u001B[0m\u001B[0mLabels\u001B[0m\u001B[1;33m\u001B[0m\u001B[1;33m\u001B[0m\u001B[0m\n\u001B[0;32m      7\u001B[0m \u001B[0mfeatures\u001B[0m\u001B[1;33m.\u001B[0m\u001B[0mshape\u001B[0m\u001B[1;33m\u001B[0m\u001B[1;33m\u001B[0m\u001B[0m\n",
      "\u001B[1;32mc:\\users\\eq\\pycharmprojects\\google_venv\\lib\\site-packages\\scipy\\sparse\\compressed.py\u001B[0m in \u001B[0;36mtoarray\u001B[1;34m(self, order, out)\u001B[0m\n\u001B[0;32m   1029\u001B[0m         \u001B[1;32mif\u001B[0m \u001B[0mout\u001B[0m \u001B[1;32mis\u001B[0m \u001B[1;32mNone\u001B[0m \u001B[1;32mand\u001B[0m \u001B[0morder\u001B[0m \u001B[1;32mis\u001B[0m \u001B[1;32mNone\u001B[0m\u001B[1;33m:\u001B[0m\u001B[1;33m\u001B[0m\u001B[1;33m\u001B[0m\u001B[0m\n\u001B[0;32m   1030\u001B[0m             \u001B[0morder\u001B[0m \u001B[1;33m=\u001B[0m \u001B[0mself\u001B[0m\u001B[1;33m.\u001B[0m\u001B[0m_swap\u001B[0m\u001B[1;33m(\u001B[0m\u001B[1;34m'cf'\u001B[0m\u001B[1;33m)\u001B[0m\u001B[1;33m[\u001B[0m\u001B[1;36m0\u001B[0m\u001B[1;33m]\u001B[0m\u001B[1;33m\u001B[0m\u001B[1;33m\u001B[0m\u001B[0m\n\u001B[1;32m-> 1031\u001B[1;33m         \u001B[0mout\u001B[0m \u001B[1;33m=\u001B[0m \u001B[0mself\u001B[0m\u001B[1;33m.\u001B[0m\u001B[0m_process_toarray_args\u001B[0m\u001B[1;33m(\u001B[0m\u001B[0morder\u001B[0m\u001B[1;33m,\u001B[0m \u001B[0mout\u001B[0m\u001B[1;33m)\u001B[0m\u001B[1;33m\u001B[0m\u001B[1;33m\u001B[0m\u001B[0m\n\u001B[0m\u001B[0;32m   1032\u001B[0m         \u001B[1;32mif\u001B[0m \u001B[1;32mnot\u001B[0m \u001B[1;33m(\u001B[0m\u001B[0mout\u001B[0m\u001B[1;33m.\u001B[0m\u001B[0mflags\u001B[0m\u001B[1;33m.\u001B[0m\u001B[0mc_contiguous\u001B[0m \u001B[1;32mor\u001B[0m \u001B[0mout\u001B[0m\u001B[1;33m.\u001B[0m\u001B[0mflags\u001B[0m\u001B[1;33m.\u001B[0m\u001B[0mf_contiguous\u001B[0m\u001B[1;33m)\u001B[0m\u001B[1;33m:\u001B[0m\u001B[1;33m\u001B[0m\u001B[1;33m\u001B[0m\u001B[0m\n\u001B[0;32m   1033\u001B[0m             \u001B[1;32mraise\u001B[0m \u001B[0mValueError\u001B[0m\u001B[1;33m(\u001B[0m\u001B[1;34m'Output array must be C or F contiguous'\u001B[0m\u001B[1;33m)\u001B[0m\u001B[1;33m\u001B[0m\u001B[1;33m\u001B[0m\u001B[0m\n",
      "\u001B[1;32mc:\\users\\eq\\pycharmprojects\\google_venv\\lib\\site-packages\\scipy\\sparse\\base.py\u001B[0m in \u001B[0;36m_process_toarray_args\u001B[1;34m(self, order, out)\u001B[0m\n\u001B[0;32m   1200\u001B[0m             \u001B[1;32mreturn\u001B[0m \u001B[0mout\u001B[0m\u001B[1;33m\u001B[0m\u001B[1;33m\u001B[0m\u001B[0m\n\u001B[0;32m   1201\u001B[0m         \u001B[1;32melse\u001B[0m\u001B[1;33m:\u001B[0m\u001B[1;33m\u001B[0m\u001B[1;33m\u001B[0m\u001B[0m\n\u001B[1;32m-> 1202\u001B[1;33m             \u001B[1;32mreturn\u001B[0m \u001B[0mnp\u001B[0m\u001B[1;33m.\u001B[0m\u001B[0mzeros\u001B[0m\u001B[1;33m(\u001B[0m\u001B[0mself\u001B[0m\u001B[1;33m.\u001B[0m\u001B[0mshape\u001B[0m\u001B[1;33m,\u001B[0m \u001B[0mdtype\u001B[0m\u001B[1;33m=\u001B[0m\u001B[0mself\u001B[0m\u001B[1;33m.\u001B[0m\u001B[0mdtype\u001B[0m\u001B[1;33m,\u001B[0m \u001B[0morder\u001B[0m\u001B[1;33m=\u001B[0m\u001B[0morder\u001B[0m\u001B[1;33m)\u001B[0m\u001B[1;33m\u001B[0m\u001B[1;33m\u001B[0m\u001B[0m\n\u001B[0m\u001B[0;32m   1203\u001B[0m \u001B[1;33m\u001B[0m\u001B[0m\n\u001B[0;32m   1204\u001B[0m \u001B[1;33m\u001B[0m\u001B[0m\n",
      "\u001B[1;31mMemoryError\u001B[0m: Unable to allocate 63.8 GiB for an array with shape (156060, 54911) and data type float64"
     ]
    }
   ],
   "source": [
    "from sklearn.feature_extraction.text import TfidfVectorizer\n",
    "\n",
    "tfidf = TfidfVectorizer(sublinear_tf=True, min_df=5, norm='l2', encoding='latin-1', ngram_range=(1, 2), stop_words='english')\n",
    "\n",
    "features = tfidf.fit_transform(original_dataset.Text_Reviews).toarray()\n",
    "labels = original_dataset.Labels\n",
    "features.shape"
   ]
  },
  {
   "cell_type": "code",
   "execution_count": null,
   "metadata": {},
   "outputs": [],
   "source": []
  }
 ],
 "metadata": {
  "accelerator": "GPU",
  "colab": {
   "collapsed_sections": [],
   "include_colab_link": true,
   "name": "ALMS_Model1_250421",
   "private_outputs": true,
   "provenance": []
  },
  "kernelspec": {
   "display_name": "Python 3",
   "language": "python",
   "name": "python3"
  },
  "language_info": {
   "codemirror_mode": {
    "name": "ipython",
    "version": 3
   },
   "file_extension": ".py",
   "mimetype": "text/x-python",
   "name": "python",
   "nbconvert_exporter": "python",
   "pygments_lexer": "ipython3",
   "version": "3.8.8"
  }
 },
 "nbformat": 4,
 "nbformat_minor": 1
}