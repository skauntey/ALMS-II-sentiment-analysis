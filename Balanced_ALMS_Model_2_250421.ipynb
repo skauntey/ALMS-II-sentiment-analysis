{
  "nbformat": 4,
  "nbformat_minor": 0,
  "metadata": {
    "colab": {
      "name": "ALMS_Model1_250421",
      "private_outputs": true,
      "provenance": [],
      "collapsed_sections": [],
      "toc_visible": true,
      "include_colab_link": true
    },
    "kernelspec": {
      "display_name": "Python 3",
      "language": "python",
      "name": "python3"
    },
    "language_info": {
      "codemirror_mode": {
        "name": "ipython",
        "version": 3
      },
      "file_extension": ".py",
      "mimetype": "text/x-python",
      "name": "python",
      "nbconvert_exporter": "python",
      "pygments_lexer": "ipython3",
      "version": "3.8.8"
    }
  },
  "cells": [
    {
      "cell_type": "markdown",
      "metadata": {
        "id": "view-in-github",
        "colab_type": "text"
      },
      "source": [
        "<a href=\"https://colab.research.google.com/github/skauntey/ALMS-II-sentiment-analysis/blob/main/Balanced_ALMS_Model_2_250421.ipynb\" target=\"_parent\"><img src=\"https://colab.research.google.com/assets/colab-badge.svg\" alt=\"Open In Colab\"/></a>"
      ]
    },
    {
      "cell_type": "code",
      "metadata": {
        "id": "lYmUjb7R27jY"
      },
      "source": [
        ""
      ],
      "execution_count": null,
      "outputs": []
    },
    {
      "cell_type": "code",
      "metadata": {
        "id": "wDjkrxKwJAGK"
      },
      "source": [
        "! pip install -q kaggle"
      ],
      "execution_count": null,
      "outputs": []
    },
    {
      "cell_type": "code",
      "metadata": {
        "id": "5ztg9JalJMDn"
      },
      "source": [
        "! mkdir ~/.kaggle\n",
        "! cp kaggle.json ~/.kaggle\n",
        "! chmod 600 ~/.kaggle/kaggle.json"
      ],
      "execution_count": null,
      "outputs": []
    },
    {
      "cell_type": "code",
      "metadata": {
        "id": "Ix-DSBh2oDB0"
      },
      "source": [
        "import tensorflow as tf\n",
        "import pandas as pd\n",
        "import numpy as np\n",
        "import os, shutil\n",
        "import kaggle\n",
        "import sklearn\n",
        "import matplotlib.pyplot as plt\n",
        "%matplotlib inline"
      ],
      "execution_count": null,
      "outputs": []
    },
    {
      "cell_type": "markdown",
      "metadata": {
        "pycharm": {
          "name": "#%% md\n"
        },
        "id": "6eqm8yZfFkmL"
      },
      "source": [
        "## 2. Downloading kaggle competition files\n"
      ]
    },
    {
      "cell_type": "code",
      "metadata": {
        "pycharm": {
          "name": "#%%\n"
        },
        "id": "VCvpCZSLFkmM"
      },
      "source": [
        "dataset = \"sentiment-analysis-on-movie-reviews\"\n",
        "def kaggle_dataset_download(dataset):\n",
        "    kaggle.api.authenticate()\n",
        "    kaggle.api.competition_download_files(dataset, path= str(os.getcwd())+\"/dataset/\", force = True)\n",
        "    print ('Data downloaded!')\n",
        "\n",
        "kaggle_dataset_download(dataset)"
      ],
      "execution_count": null,
      "outputs": []
    },
    {
      "cell_type": "code",
      "metadata": {
        "pycharm": {
          "name": "#%%\n"
        },
        "id": "3zqVG0QAFkmN"
      },
      "source": [
        "## In order to download the dataset make sure that kaggle.json file is available in ~/.kaggle/kaggle.json\n",
        "# 'Kaggle.json' Downloading instructions are available under 'API Credential' heading of the github page\n",
        "# https://github.com/Kaggle/kaggle-api\n",
        "\n",
        "import zipfile\n",
        "#Define file to download\n",
        "\n",
        "dataset = \"sentiment-analysis-on-movie-reviews\"\n",
        "\n",
        "def kaggle_dataset_download(dataset):\n",
        "    kaggle.api.authenticate()\n",
        "    kaggle.api.competition_download_files(dataset, path= str(os.getcwd())+\"/dataset/\", force = True)\n",
        "    print ('Data downloaded!')\n",
        "\n",
        "def unzip_kaggle_file():\n",
        "\n",
        "    # file_path\n",
        "    zipped_file = r'dataset/sentiment-analysis-on-movie-reviews.zip'\n",
        "    file_path = os.path.join(str(os.getcwd()),zipped_file)\n",
        "    folder_path = os.path.join(str(os.getcwd()), 'dataset')\n",
        "\n",
        "    # making sure that previously downloaded file, if any, is deleted before\n",
        "    for file in os.listdir(folder_path):\n",
        "        path = os.path.join(os.getcwd(), 'dataset', file)\n",
        "        if not path.split('.')[-1] == \"zip\":\n",
        "          shutil.rmtree(path)\n",
        "        else:\n",
        "          continue\n",
        "\n",
        "    # Unzipping the file\n",
        "    with zipfile.ZipFile(file_path) as zip_file:\n",
        "        for member in zip_file.namelist():\n",
        "            if member.split('.')[-1] == \"zip\":\n",
        "                fdir = member.split('.')[0]\n",
        "                zip_file.extract(member, path= os.path.join('dataset/'+fdir))\n",
        "                # extracting individual train and test files in their respective folders\n",
        "                zippedfile_name = os.listdir(os.path.join(str(os.getcwd()+'/dataset/'+fdir+'/')))\n",
        "                zippedfile = os.path.join(str(os.getcwd())+'/dataset/'+ fdir, zippedfile_name[0])\n",
        "                with zipfile.ZipFile(zippedfile, mode='r') as tsv_zip:\n",
        "                    tsv_zip.extractall(path = os.path.join('dataset/'+fdir+'/'))\n",
        "\n",
        "                os.remove(zippedfile)\n",
        "            else:\n",
        "                continue\n",
        "\n",
        "    os.remove(zipped_file)\n",
        "    print('Kaggle file is downloaded and unzipped!')\n",
        "\n",
        "\n",
        "kaggle_dataset_download(dataset)\n",
        "unzip_kaggle_file()"
      ],
      "execution_count": null,
      "outputs": []
    },
    {
      "cell_type": "markdown",
      "metadata": {
        "id": "XR-Gq7oRoDCg",
        "pycharm": {
          "name": "#%% md\n"
        }
      },
      "source": [
        "## 3. Converting files to DataFrame"
      ]
    },
    {
      "cell_type": "code",
      "metadata": {
        "id": "cYK76UoboDCh",
        "pycharm": {
          "name": "#%%\n"
        }
      },
      "source": [
        "#C:\\Users\\eq\\Documents\\UCL\\ELEC0135 ALMS II\\ALMS-II-sentiment-analysis\\dataset\\train\n",
        "file_path = os.path.join(str(os.getcwd()), 'dataset','train')\n",
        "file = os.listdir(file_path)[0]\n",
        "path = os.path.join(file_path, file)\n",
        "# read the data\n",
        "train_data = pd.read_csv(path, sep=\"\\t\")\n",
        "\n",
        "pdf = pd.DataFrame({ \n",
        "    'text_reviews': train_data['Phrase'],\n",
        "    'class_id': train_data['Sentiment']})\n",
        "\n",
        "pdf_data = pdf['text_reviews']\n",
        "pdf_labels = pdf['class_id']\n",
        "\n",
        "print(pdf_data.shape)\n",
        "print(pdf_labels.shape)\n",
        "pdf.head(10)"
      ],
      "execution_count": null,
      "outputs": []
    },
    {
      "cell_type": "markdown",
      "metadata": {
        "pycharm": {
          "name": "#%% md\n"
        },
        "id": "-xKKC9tKFkmQ"
      },
      "source": [
        "#### 3.1 Viewing data"
      ]
    },
    {
      "cell_type": "code",
      "metadata": {
        "id": "lZaICTb3xWs2"
      },
      "source": [
        "sen_numbers = []\n",
        "for i in pdf_f['SentenceId']:\n",
        "  if i not in sen_numbers:\n",
        "    sen_numbers.append(i)\n",
        "\n",
        "len(sen_numbers)"
      ],
      "execution_count": null,
      "outputs": []
    },
    {
      "cell_type": "code",
      "metadata": {
        "id": "4h0iyk0RFkmR"
      },
      "source": [
        "Label_Class = [('negative', 0), ('somewhat negative', 1), ('neutral', 2), ('somewhat positive', 3), ('positive', 4)]\n",
        "Label_Class[0][0]\n",
        "pdf_f = train_data.copy()\n",
        "\n",
        "pdf['class'] = [Label_Class[i][0] for i in pdf['class_id']]\n",
        "pdf_f['sentence_len'] = [len(x) for x in train_data['Phrase']]\n",
        "\n",
        "#for i in range(len(set(pdf_f.SentenceId))):\n",
        "strings  = []\n",
        "for i in sen_numbers:\n",
        "  anew = pdf_f.loc[pdf_f['SentenceId'] == i].sort_values('sentence_len',ascending=False)\n",
        "  seriess = anew[['Phrase', 'Sentiment', 'sentence_len']].iloc[0,0:3].values\n",
        "  strings.append(seriess)\n",
        "\n",
        "strings"
      ],
      "execution_count": null,
      "outputs": []
    },
    {
      "cell_type": "code",
      "metadata": {
        "id": "pfVMHKIh_uc9"
      },
      "source": [
        "k= pd.DataFrame(strings, columns=['text_reviews', 'class_id', 'sentence_len'])\n",
        "\n",
        "import matplotlib.pyplot as plt\n",
        "fig = plt.figure(figsize=(8,6))\n",
        "k.groupby('class_id').text_reviews.count().plot.bar(ylim=0)\n",
        "plt.show()"
      ],
      "execution_count": null,
      "outputs": []
    },
    {
      "cell_type": "code",
      "metadata": {
        "id": "tBUyPJ4h2-Az"
      },
      "source": [
        "pdf_f.loc[pdf_f['SentenceId'] == 3]"
      ],
      "execution_count": null,
      "outputs": []
    },
    {
      "cell_type": "code",
      "metadata": {
        "pycharm": {
          "name": "#%%\n"
        },
        "id": "pNtcpVIZFkmR"
      },
      "source": [
        "pdf.info()"
      ],
      "execution_count": null,
      "outputs": []
    },
    {
      "cell_type": "code",
      "metadata": {
        "id": "cDQgL14B8YLJ"
      },
      "source": [
        "col = ['text_reviews','class_id','class']\n",
        "pdf[col]"
      ],
      "execution_count": null,
      "outputs": []
    },
    {
      "cell_type": "code",
      "metadata": {
        "id": "XYEpd18vFkmS"
      },
      "source": [
        "from io import StringIO\n",
        "id_class_df = pdf[['class_id', 'class']].drop_duplicates().sort_values('class_id')\n",
        "id_class = dict(id_class_df.values)\n",
        "class_id = dict(id_class_df[['class', 'class_id']].values)\n",
        "class_id"
      ],
      "execution_count": null,
      "outputs": []
    },
    {
      "cell_type": "code",
      "metadata": {
        "id": "Kcpf0y8kFkmS"
      },
      "source": [
        "import matplotlib.pyplot as plt\n",
        "fig = plt.figure(figsize=(8,6))\n",
        "pdf.groupby('class').text_reviews.count().plot.bar(ylim=0)\n",
        "plt.show()"
      ],
      "execution_count": null,
      "outputs": []
    },
    {
      "cell_type": "code",
      "metadata": {
        "id": "nsru2OoyFkmS"
      },
      "source": [
        "from sklearn.feature_extraction.text import TfidfVectorizer\n",
        "\n",
        "tfidf = TfidfVectorizer(sublinear_tf=True, min_df=5, norm='l2', encoding='latin-1', ngram_range=(1, 2), stop_words='english')\n",
        "\n",
        "features = tfidf.fit_transform(pdf.Text_Reviews).toarray()\n",
        "labels = pdf.Labels\n",
        "features.shape"
      ],
      "execution_count": null,
      "outputs": []
    },
    {
      "cell_type": "code",
      "metadata": {
        "id": "Grm9PQD_FkmT"
      },
      "source": [
        ""
      ],
      "execution_count": null,
      "outputs": []
    }
  ]
}